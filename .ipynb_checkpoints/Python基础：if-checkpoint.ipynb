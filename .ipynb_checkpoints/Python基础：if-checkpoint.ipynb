{
 "cells": [
  {
   "cell_type": "code",
   "execution_count": 1,
   "metadata": {},
   "outputs": [
    {
     "name": "stdout",
     "output_type": "stream",
     "text": [
      "poor\n"
     ]
    }
   ],
   "source": [
    "# if条件判断\n",
    "money = 88\n",
    "\n",
    "# 当 money 的值大于 100 时，输出 \"rich\"\n",
    "# 否则，输出 \"poor\"\n",
    "if money > 100:\n",
    "    print('rich')\n",
    "else:\n",
    "    print(\"poor\")"
   ]
  },
  {
   "cell_type": "code",
   "execution_count": 7,
   "metadata": {},
   "outputs": [
    {
     "name": "stdout",
     "output_type": "stream",
     "text": [
      "True\n",
      "False\n",
      "请输入内容0\n",
      "True\n",
      "********************\n",
      "False\n",
      "True\n",
      "False\n",
      "True\n",
      "False\n",
      "True\n",
      "False\n"
     ]
    }
   ],
   "source": [
    "# 逻辑判断\n",
    "# 判断下面示例是否会输出 True 并亲自验证\n",
    "# (a)\n",
    "bingo = False\n",
    "if bingo == False:\n",
    "    print(True)\n",
    "else:\n",
    "    print(False)\n",
    "# 输出为True\n",
    "\n",
    "# (b)\n",
    "b = 3\n",
    "if b-3:\n",
    "    print(True)\n",
    "else:\n",
    "    print(False)\n",
    "# 输出为False\n",
    "\n",
    "# (c)\n",
    "x = input('请输入内容')\n",
    "if x:\n",
    "    print(True)\n",
    "else:\n",
    "    print(False)\n",
    "# 输出为True\n",
    "\n",
    "print('*'*20)\n",
    "\n",
    "# (d)\n",
    "a = True\n",
    "b = not a  # 不记得not请回顾第二课\n",
    "print(b) # 输出为False\n",
    "print(not b) # 输出为True\n",
    "print(a == b) # 输出为False \n",
    "print(a != b) # 输出为True\n",
    "print(a and b) # 输出为False\n",
    "print(a or b) # 输出为True\n",
    "print(1<2 and b==True) # 输出为False\n",
    "\n"
   ]
  },
  {
   "cell_type": "code",
   "execution_count": 10,
   "metadata": {},
   "outputs": [
    {
     "name": "stdout",
     "output_type": "stream",
     "text": [
      "输入你的身高（米）：1.7\n",
      "输入你的体重（公斤）：62.5\n",
      "你的BMI为21.63\n",
      "体重正常\n"
     ]
    }
   ],
   "source": [
    "# BMI 计算器\n",
    "\"\"\"\n",
    "BMI 指数（即身体质量指数，简称体质指数又称体重，英文为Body Mass Index，简称BMI），是用体重公斤数除以身高米数平方得出的数字\n",
    "\n",
    "BMI < 18.5 体重偏轻 18.5 <= BMI < 24 体重正常 BMI >= 24 体重偏重 设计一个BMI计算器吧，看看自己体重是否正常。\n",
    "\n",
    "输入：身高、体重值\n",
    "\n",
    "输出：BMI 指数、是否正常\n",
    "\"\"\"\n",
    "\n",
    "Stature = float(input('输入你的身高（米）：'))\n",
    "Weight = float(input('输入你的体重（公斤）：'))\n",
    "BMI = Weight / (Stature**2)\n",
    "\n",
    "print('你的BMI为%.2f'%BMI)\n",
    "\n",
    "if BMI < 18.5:\n",
    "    print('体重偏轻')\n",
    "elif BMI<24:\n",
    "    print('体重正常')\n",
    "else:\n",
    "    print('体重偏重')\n"
   ]
  },
  {
   "cell_type": "code",
   "execution_count": null,
   "metadata": {},
   "outputs": [],
   "source": []
  },
  {
   "cell_type": "code",
   "execution_count": null,
   "metadata": {},
   "outputs": [],
   "source": []
  },
  {
   "cell_type": "code",
   "execution_count": null,
   "metadata": {},
   "outputs": [],
   "source": []
  },
  {
   "cell_type": "code",
   "execution_count": null,
   "metadata": {},
   "outputs": [],
   "source": []
  }
 ],
 "metadata": {
  "kernelspec": {
   "display_name": "Python 3",
   "language": "python",
   "name": "python3"
  },
  "language_info": {
   "codemirror_mode": {
    "name": "ipython",
    "version": 3
   },
   "file_extension": ".py",
   "mimetype": "text/x-python",
   "name": "python",
   "nbconvert_exporter": "python",
   "pygments_lexer": "ipython3",
   "version": "3.8.3"
  }
 },
 "nbformat": 4,
 "nbformat_minor": 4
}
