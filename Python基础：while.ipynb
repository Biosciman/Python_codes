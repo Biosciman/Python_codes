{
 "cells": [
  {
   "cell_type": "code",
   "execution_count": 7,
   "metadata": {},
   "outputs": [
    {
     "name": "stdout",
     "output_type": "stream",
     "text": [
      "88\n",
      "猜猜是什么数字(提示：100以内的整数)：88\n",
      "猜对了，这个数字是88\n"
     ]
    }
   ],
   "source": [
    "# 猜数字小游戏\n",
    "# 让玩家一直猜，直到猜中为止？试着用 while 循环完成这个任务\n",
    "\n",
    "import random\n",
    "a = random.randint(0, 100)\n",
    "b = int(input('猜猜是什么数字(提示：100以内的整数)：'))\n",
    "\n",
    "while a != b:\n",
    "    if a > b:\n",
    "        b = int(input('猜的数字有点小，再试试：'))\n",
    "    else:\n",
    "        b = int(input('猜的数字有点大，再试试：'))\n",
    "print('猜对了，这个数字是{}'.format(a))"
   ]
  },
  {
   "cell_type": "code",
   "execution_count": 9,
   "metadata": {},
   "outputs": [
    {
     "name": "stdout",
     "output_type": "stream",
     "text": [
      "1\n",
      "2\n",
      "3\n",
      "6\n",
      "7\n",
      "8\n",
      "9\n",
      "10\n"
     ]
    }
   ],
   "source": [
    "# 输出 1 到 10，但不输出 4 和 5\n",
    "\n",
    "count = 0\n",
    "while count < 10:\n",
    "    count += 1\n",
    "    if count == 4 or count ==5:\n",
    "        continue\n",
    "    print(count)"
   ]
  },
  {
   "cell_type": "code",
   "execution_count": 10,
   "metadata": {},
   "outputs": [
    {
     "name": "stdout",
     "output_type": "stream",
     "text": [
      "1683\n"
     ]
    }
   ],
   "source": [
    "# 使用 while 计算100以内所有3的倍数的和（即：计算3、6、9 ... 96、99 的和）\n",
    "i = 0\n",
    "All = 0\n",
    "while i < 99:\n",
    "    i += 1\n",
    "    if i % 3 ==0:\n",
    "        All +=i\n",
    "print(All)"
   ]
  }
 ],
 "metadata": {
  "kernelspec": {
   "display_name": "Python 3",
   "language": "python",
   "name": "python3"
  },
  "language_info": {
   "codemirror_mode": {
    "name": "ipython",
    "version": 3
   },
   "file_extension": ".py",
   "mimetype": "text/x-python",
   "name": "python",
   "nbconvert_exporter": "python",
   "pygments_lexer": "ipython3",
   "version": "3.8.3"
  }
 },
 "nbformat": 4,
 "nbformat_minor": 4
}
