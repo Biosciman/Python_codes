{
 "cells": [
  {
   "cell_type": "code",
   "execution_count": 2,
   "metadata": {},
   "outputs": [
    {
     "name": "stdout",
     "output_type": "stream",
     "text": [
      "Crossin is 18, he writes Python\n"
     ]
    }
   ],
   "source": [
    "# 字符串拼接\n",
    "name = 'Crossin'\n",
    "age = 18\n",
    "code = 'Python'\n",
    "\n",
    "# 通过 % 将 name, age, code 拼接成一句话\n",
    "# 输出 Crossin is 18, he writes Python.\n",
    "\n",
    "print('%s is %d, he writes %s'%(name, 18, code))\n"
   ]
  },
  {
   "cell_type": "code",
   "execution_count": 3,
   "metadata": {},
   "outputs": [
    {
     "name": "stdout",
     "output_type": "stream",
     "text": [
      "5.8\n"
     ]
    }
   ],
   "source": [
    "# print()\n",
    "\n",
    "num1 = '3.3'\n",
    "num2 = 2.5\n",
    "\n",
    "# 将 num1 转换为浮点数\n",
    "\n",
    "num1 = float(num1)\n",
    "\n",
    "# 再和 num2 相加后输出\n",
    "\n",
    "print(num1 + num2)"
   ]
  },
  {
   "cell_type": "code",
   "execution_count": 4,
   "metadata": {},
   "outputs": [
    {
     "data": {
      "text/plain": [
       "False"
      ]
     },
     "execution_count": 4,
     "metadata": {},
     "output_type": "execute_result"
    }
   ],
   "source": [
    "# bool类型转换\n",
    "# 判断以下结果的值为 True 还是 False\n",
    "\n",
    "bool(-123) # True\n",
    "bool(0) # False\n",
    "bool('abc') # True\n",
    "bool('False') # True\n",
    "bool('') # False\n",
    "bool([]) # False\n",
    "bool({}) # False\n",
    "bool(['']) # False\n",
    "bool(None) # False\n"
   ]
  },
  {
   "cell_type": "code",
   "execution_count": null,
   "metadata": {},
   "outputs": [],
   "source": []
  }
 ],
 "metadata": {
  "kernelspec": {
   "display_name": "Python 3",
   "language": "python",
   "name": "python3"
  },
  "language_info": {
   "codemirror_mode": {
    "name": "ipython",
    "version": 3
   },
   "file_extension": ".py",
   "mimetype": "text/x-python",
   "name": "python",
   "nbconvert_exporter": "python",
   "pygments_lexer": "ipython3",
   "version": "3.8.3"
  }
 },
 "nbformat": 4,
 "nbformat_minor": 4
}
